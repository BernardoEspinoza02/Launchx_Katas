{
 "cells": [
  {
   "cell_type": "markdown",
   "metadata": {},
   "source": [
    "# Ejercicio - Crea un paquete\n",
    "_____________________________________________________________________________________________________________________\n",
    "En este ejercicio, aprenderás a utilizar entornos virtuales como una forma para no afectar a los paqeutes instalados globalmente u otros programas que se ejecutan en tu máquina.\n",
    "Para este ejercicio es necesario que la ejecutes desde la terminal, linea de comandos, cmd, consola, cli, etc. de tu computadora, sé que es desafiante, pero no te preocupes ¡¡Sé que puedes lograrlo!!"
   ]
  },
  {
   "cell_type": "markdown",
   "metadata": {},
   "source": [
    "# Cree un entorno virtual \n",
    "_____________________________________________________________________________________________________________________\n",
    "Crear un entorno vistual mediante ` venv `\n",
    "- Ejecutar en su Terminal: `python3 -m venv env`\n",
    "\n",
    "    ```\n",
    "    python3 -m venv env\n",
    "    ```\n",
    "    Ahora tienes un directorio (folder) ` env ` creado en tu terminal\n",
    "\n",
    "-Ejecuta el comando para activar el entorno virtual: ` source env/bin/activate `\n",
    "\n",
    "    ```\n",
    "    source env/bin/activate\n",
    "    # windows\n",
    "    env\\bin\\activate\n",
    "\n",
    "    #Linux, WSL or macOS\n",
    "    source env/bin/activate\n",
    "    ```\n",
    "\n",
    "Ahora ves en tu terminal ` (env) `. Eso significa que has activado tu entorno virtual y se ha aislado de tu máquina.\n"
   ]
  },
  {
   "cell_type": "markdown",
   "metadata": {},
   "source": [
    "#Instalar una biblioteca \n",
    "_____________________________________________________________________________________________________________________\n",
    "Ahora que estas dentro de tu entorno virtual, puedes instalar una bliblioteca y saber que la biblioteca solo existirá en el entorno virtual. \n",
    "- Ejecuta el comando `pip freeze ` para ver las bibliotecas instalas en tu entorno:\n",
    ">pip frezze\n",
    "\n",
    "No deberias obtener respuesta. A continuación, veamos cómo cambia la salida de `pip freeze` cuando se agrega una biblioteca (un paquete)\n",
    "\n",
    "-Ejecuta el comando `pip install` para instalar una biblioteca:\n",
    "\n",
    ">pip install python-dateutil\n",
    "\n",
    "-Un mensaje de salida de texto dice que está instalando tu biblioteca, y debe de terminar con la siguiente oración:\n",
    "\n",
    ">Succesfull installed python-dateutil -2.8.2 six-1.16.0\n",
    "\n",
    "-Vuelve a ejecutar `pip freeze` para ver cómo ha cambiado tu lista de bibliotecas:\n",
    ">pip freeze\n",
    "\n",
    "-Ahora deberías ver la siguiente lista:\n",
    "```\n",
    "pyton-dateutil==2.8.2\n",
    "six==1.16.0\n",
    "\n"
   ]
  },
  {
   "cell_type": "markdown",
   "metadata": {},
   "source": [
    "# Desactivar un entorno virtual\n",
    "Hasta ahora, has creado un entorno virtual y le has agregado un paquete. Sin embargo, es posible que estés trabajando en varios proyectos de Python y necesites cambiar entre ellos. Para hacer eso, debes salir(desactivar) tu entorno virtual. \n",
    "\n",
    "Ejecuta el comando `deactivate`:\n",
    "\n",
    "> deactivate\n",
    "\n",
    "Observa cómo cambia el mensaje de tu terminal `(env)` a cómo se veía antes.\n",
    "\n",
    "¡Felicidades! Has logrado crear y usar correctamente un entorno virtual\n"
   ]
  }
 ],
 "metadata": {
  "interpreter": {
   "hash": "2be5faf79681da6f2a61fdfdd5405d65d042280f7fba6178067603e3a2925119"
  },
  "kernelspec": {
   "display_name": "Python 3.10.0 64-bit",
   "language": "python",
   "name": "python3"
  },
  "language_info": {
   "codemirror_mode": {
    "name": "ipython",
    "version": 3
   },
   "file_extension": ".py",
   "mimetype": "text/x-python",
   "name": "python",
   "nbconvert_exporter": "python",
   "pygments_lexer": "ipython3",
   "version": "3.10.2"
  },
  "orig_nbformat": 4
 },
 "nbformat": 4,
 "nbformat_minor": 2
}
